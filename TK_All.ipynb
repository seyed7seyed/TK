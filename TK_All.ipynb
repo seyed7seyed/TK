{
 "cells": [
  {
   "cell_type": "markdown",
   "id": "87d5ebbe",
   "metadata": {},
   "source": [
    "#####   \n",
    "<span style=\"font-family:MV Boli; font-weight:Bold; font-size:2.3em; color:#00b3e5;\"> TK_All"
   ]
  },
  {
   "cell_type": "markdown",
   "id": "831294cb",
   "metadata": {},
   "source": [
    "#####   \n",
    "<span style=\"font-family:MV Boli; font-weight:Bold; font-size:2.3em; color:#00b3e5;\"> Python GUIs:\n",
    "    \n",
    "  - **TKinter** . . . . . . . . . Python's Standard GUI. Reliable and User-Friendly\n",
    "  - **PyQt5** . . . . . . . . . . Powerful and Versatile\n",
    "  - **Kivy** . . . . .. . . . . . . Developing Multi-Touch Apps\n",
    "  - **wxPython** . . . . . .. Building Robust and Feature-Rich Python GUIs\n",
    "  - **PyGUI**. . . . . . . . . . Simplifying Python GUI Development"
   ]
  },
  {
   "cell_type": "markdown",
   "id": "8adf47b6",
   "metadata": {},
   "source": [
    "#####   \n",
    "<span style=\"font-family:MV Boli; font-weight:Bold; font-size:1.8em; color:#00b3e5;\"> Widgets:\n",
    "    \n",
    "  - **Label** . . . . . . . . . . . Display **Text** and **Image**\n",
    "  - **Button** . . . . . . . . . . Display **Text** and **Image**\n",
    "  - **Entry** . . . . .. . . . . . . Display **Text**\n",
    "  - **Checkbutton** . . . . . Display **Text** and **Image**\n",
    "  - **Frame**. . . . . . . . . . . \n",
    "  - **Listbox**. . . . . . . . . . Display **Text** and **Image**\n",
    "  - **Canvas**. . . . . . . . . .\n",
    "    \n",
    "  - **Menubutton**. . . . . .  \n",
    "  - **Menu**. . . . . . . . . . . . \n",
    "  - **Message**. . . . . . . . . \n",
    "  - **Radiobutton**. . . . . . \n",
    "  - **Scale**. . . . . . . . . . . . \n",
    "  - **Scrollbar**. . . . . . . . . \n",
    "  - **Text**. . . . . . . . . . . . .\n",
    "  - **Toplevel**. . . . . . . . . . \n",
    "  - **Spinbox**. . . . . . . . . . \n",
    "  - **Panedwindow**. . . . . "
   ]
  },
  {
   "cell_type": "markdown",
   "id": "c4589e9d",
   "metadata": {},
   "source": [
    "#####   \n",
    "<span style=\"font-family:MV Boli; font-weight:Bold; font-size:1.8em; color:#00b3e5;\"> Geometry:\n",
    "    \n",
    "  - **pack** . . . . .. . . . . . widget.**pack( side=BOTTOM )**\n",
    "  - **grid** . . . . . . . . . . . widget.**grid( column=3, columnspan=1, row=1, rowspan=1, padx=3, pady=3, sticky=(N,S,E,W) )**\n",
    "  - **place** . . . . . . . . . . widget.**place( x=75, y=25 )**"
   ]
  },
  {
   "cell_type": "markdown",
   "id": "73a30c4c",
   "metadata": {},
   "source": [
    "#####   \n",
    "<span style=\"font-family:MV Boli; font-weight:Bold; font-size:1.8em; color:#00b3e5;\"> Var:\n",
    "    \n",
    "  - **S = StringVar( value = \"abc\" )** . . . . . . . . . . **default value is \"\"**\n",
    "  - **B = BooleanVar( value = True )** . . . . . . . . . **default is False**\n",
    "  - **I = IntVar( value = 1 )** . . . . . .. . . . . . . . . . . . **default is 0**\n",
    "  - **D = DoubleVar( value = 10.5 )** . . . . . .. . . . . **default is 0.0**"
   ]
  },
  {
   "cell_type": "markdown",
   "id": "fab04ee9",
   "metadata": {},
   "source": [
    "#####   \n",
    "<span style=\"font-family:MV Boli; font-weight:Bold; font-size:1.8em; color:#00b3e5;\"> Style:\n",
    "    \n",
    "  - **s = ttk.Style()**\n",
    "  - **s.configure( 'Danger.TFrame', background='Cyan', foreground='deeppink', borderwidth=5, relief='raised', font='MV Boli' )**\n",
    "    \n",
    "** **\n",
    "\n",
    "  - **rbStyle = ttk.Style()**\n",
    "  - **rbStyle.configure('Wild.TRadiobutton', background='Light Cyan', foreground='deeppink', font=('Arial',16,'bold','italic'))**\n",
    "    \n",
    "** **"
   ]
  },
  {
   "cell_type": "markdown",
   "id": "30c979fb",
   "metadata": {},
   "source": [
    "#####   \n",
    "<span style=\"font-family:MV Boli; font-weight:Bold; font-size:1.8em; color:#00b3e5;\"> Importing Libraries"
   ]
  },
  {
   "cell_type": "code",
   "execution_count": 1,
   "id": "4050267a",
   "metadata": {},
   "outputs": [],
   "source": [
    "from tkinter import ttk, messagebox\n",
    "from tkinter import *"
   ]
  },
  {
   "cell_type": "markdown",
   "id": "5e6ecfcd",
   "metadata": {},
   "source": [
    "#####   \n",
    "<span style=\"font-family:MV Boli; font-weight:Bold; font-size:1.8em; color:#00b3e5;\"> Main Window"
   ]
  },
  {
   "cell_type": "code",
   "execution_count": 2,
   "id": "af196d36",
   "metadata": {},
   "outputs": [],
   "source": [
    "# main_window\n",
    "root = Tk()\n",
    "root.title('Sample')\n",
    "root.minsize(width=1500,height=1200)\n",
    "root.maxsize(width=2000,height=1500)\n",
    "\n",
    "# Style \n",
    "s = ttk.Style()\n",
    "s.configure( 'Danger.TFrame', background='Cyan', foreground='deeppink', borderwidth=5, relief='raised', font='MV Boli' )\n",
    "\n",
    "# Create and grid the outer content frame\n",
    "main_window = ttk.Frame( root, padding=(5, 12, 12, 5), style='Danger.TFrame'  )\n",
    "main_window.grid( column=0, row=0, sticky=(N,W,E,S) )\n",
    "main_window.grid_columnconfigure( 0, weight=1 )\n",
    "main_window.grid_rowconfigure(    0, weight=1 )"
   ]
  },
  {
   "cell_type": "markdown",
   "id": "89d732d8",
   "metadata": {},
   "source": [
    "#####   \n",
    "<span style=\"font-family:MV Boli; font-weight:Bold; font-size:1.8em; color:#00b3e5;\"> Frame:\n",
    "    \n",
    "  - **Syntax** . . . . . . . . . . . **F1 = Frame( master, opt=val )**\n",
    "  - **Options** . . . . . . . . . . **cursor, bg, fg, width, height, bd**"
   ]
  },
  {
   "cell_type": "code",
   "execution_count": 3,
   "id": "a2460ffe",
   "metadata": {},
   "outputs": [],
   "source": [
    "'''\n",
    "F1 = Frame( main_window\n",
    "          , bg     =  'Light Cyan'\n",
    "          , width  =   10\n",
    "          , height =   10\n",
    "          , bd     =    3\n",
    "          )\n",
    "F1.pack( side = BOTTOM )\n",
    "'''\n",
    "pass"
   ]
  },
  {
   "cell_type": "markdown",
   "id": "e2d57b43",
   "metadata": {},
   "source": [
    "#####   \n",
    "<span style=\"font-family:MV Boli; font-weight:Bold; font-size:1.8em; color:#00b3e5;\"> Label:\n",
    "    \n",
    "  - **Syntax** . . . . . . . . . . . **L1 = Label( master, opt=val )**\n",
    "  - **Options** . . . . . . . . . . **text, bg, fg, width, height, font, image**"
   ]
  },
  {
   "cell_type": "code",
   "execution_count": 4,
   "id": "c6029de8",
   "metadata": {},
   "outputs": [],
   "source": [
    "# Text\n",
    "L1 = Label( main_window\n",
    "          , text   = 'Great Learning'\n",
    "          , bg     = 'Light Cyan'\n",
    "          , fg     = 'deeppink'\n",
    "          , width  =  15\n",
    "          , height =   2 \n",
    "          , font   = ('Arial',16,'bold','italic')\n",
    "          )\n",
    "L1.grid(row=0,column=0)\n",
    "\n",
    "# Image\n",
    "I1 = PhotoImage( file='E:\\\\moving_branch.gif' )\n",
    "L2 = Label( main_window\n",
    "          , image  =   I1\n",
    "          , bg     =  'Light Cyan'\n",
    "          )\n",
    "L2.grid(row=1,column=0)"
   ]
  },
  {
   "cell_type": "markdown",
   "id": "4b95522b",
   "metadata": {},
   "source": [
    "#####   \n",
    "<span style=\"font-family:MV Boli; font-weight:Bold; font-size:1.8em; color:#00b3e5;\"> Button:\n",
    "    \n",
    "  - **Syntax** . . . . . . . . . . . **B1 = Button( master, opt=val )**\n",
    "  - **Options** . . . . . . . . . . **text, bg, fg, width, height, font, image, command**"
   ]
  },
  {
   "cell_type": "code",
   "execution_count": 5,
   "id": "3c016cae",
   "metadata": {},
   "outputs": [],
   "source": [
    "# Text\n",
    "B1 = Button( main_window\n",
    "           , text   = 'Great Learning'\n",
    "           , bg     = 'Light Cyan'\n",
    "           , fg     = 'deeppink'\n",
    "           , width  =  15\n",
    "           , height =   2 \n",
    "           , font   = ('Arial',16,'bold','italic')\n",
    "           )\n",
    "B1.grid(row=0,column=1) \n",
    "\n",
    "# Image\n",
    "I2 = PhotoImage( file='E:\\\\moving_branch.gif' )\n",
    "B2 = Button( main_window\n",
    "           , image  = I2\n",
    "           , bg     =  'Light Cyan'\n",
    "           )\n",
    "B2.grid(row=1,column=1)"
   ]
  },
  {
   "cell_type": "markdown",
   "id": "e784794b",
   "metadata": {},
   "source": [
    "#####   \n",
    "<span style=\"font-family:MV Boli; font-weight:Bold; font-size:1.8em; color:#00b3e5;\"> Entry with messagebox:\n",
    "    \n",
    "  - **Syntax** . . . . . . . . . . . **E1 = Entry( master, opt=val )**\n",
    "  - **Options** . . . . . . . . . . **textvariable, bg, fg, width, font, bd**"
   ]
  },
  {
   "cell_type": "code",
   "execution_count": 6,
   "id": "bd69e8c9",
   "metadata": {},
   "outputs": [],
   "source": [
    "# Text\n",
    "V3 = StringVar()\n",
    "E3 = Entry( main_window\n",
    "          , textvariable  =   V3 \n",
    "          , bg            =  'Light Cyan'\n",
    "          , fg            =  'deeppink'\n",
    "          , width         =   15\n",
    "          , font          = ('Arial',16,'bold','italic')\n",
    "          , bd            =    1\n",
    "          , show          =  '*'   # password\n",
    "          )\n",
    "E3.grid(row=2,column=0)\n",
    "\n",
    "\n",
    "# Label which changes with Entry\n",
    "L3 = Label( main_window\n",
    "          , text   =  'Nothing'\n",
    "          , bg     =  'Light Cyan'\n",
    "          , fg     =  'deeppink'\n",
    "          , width  =   15\n",
    "          , height =    2 \n",
    "          , font   = ('Arial',16,'bold','italic')\n",
    "          )\n",
    "L3.grid(row=3,column=0)\n",
    "\n",
    "\n",
    "# Function which relates Entry to Label  +  messagebox\n",
    "def F3():\n",
    "    X3 = V3.get()\n",
    "    if X3 == '':\n",
    "        messagebox.showwarning('Caution','Nothing is written!')\n",
    "        \n",
    "    else:\n",
    "        L3.config( text   =   X3\n",
    "                 , bg     =  'deeppink'\n",
    "                 , fg     =  'Light Cyan'\n",
    "                 , width  =   15\n",
    "                 , height =    2 \n",
    "                 , font   = ('Arial',16,'bold','italic')\n",
    "                 )\n",
    "        messagebox.showinfo('Well Done!', X3+' was written')\n",
    "\n",
    "\n",
    "# Button to summon the Function\n",
    "B3 = Button( main_window\n",
    "           , text    =  'Convert'\n",
    "           , bg      =  'Light Cyan'\n",
    "           , fg      =  'deeppink'\n",
    "           , width   =   15\n",
    "           , height  =    2 \n",
    "           , font    = ('Arial',16,'bold','italic')\n",
    "           , command =   F3\n",
    "           )\n",
    "B3.grid(row=4,column=0)"
   ]
  },
  {
   "cell_type": "markdown",
   "id": "227d5aff",
   "metadata": {},
   "source": [
    "#####   \n",
    "<span style=\"font-family:MV Boli; font-weight:Bold; font-size:1.8em; color:#00b3e5;\"> Checkbutton:\n",
    "    \n",
    "  - **Syntax** . . . . . . . . . . . **C1 = Checkbutton( master, opt=val )**\n",
    "  - **Options** . . . . . . . . . . **text, bg, fg, width, height, font, image**"
   ]
  },
  {
   "cell_type": "code",
   "execution_count": 7,
   "id": "d10fb5b7",
   "metadata": {},
   "outputs": [],
   "source": [
    "# Var\n",
    "V1 = StringVar()\n",
    "\n",
    "# text\n",
    "C1 = Checkbutton( main_window\n",
    "                , variable =  V1 \n",
    "                , offvalue = 'No'\n",
    "                , onvalue  = 'Yes'\n",
    "               #, command  =  F3\n",
    "                , text     = 'I agree'\n",
    "                , bg       = 'Light Cyan'\n",
    "                , fg       = 'deeppink'\n",
    "                , width    =  15\n",
    "                , height   =   2 \n",
    "                , font     = ('Arial',16,'bold','italic')\n",
    "                )\n",
    "C1.grid(row=5,column=0)\n",
    "\n",
    "# image\n",
    "I3 = PhotoImage( file='E:\\\\moving_branch.gif' )\n",
    "C2 = Checkbutton( main_window\n",
    "                , image    =  I3\n",
    "                , variable =  V1\n",
    "                , offvalue = 'No'\n",
    "                , onvalue  = 'Yes'\n",
    "               #, command  =  F3\n",
    "                , bg       = 'Light Cyan'\n",
    "                , fg       = 'deeppink'\n",
    "                )\n",
    "C2.grid(row=6,column=0)"
   ]
  },
  {
   "cell_type": "markdown",
   "id": "2bd5a336",
   "metadata": {},
   "source": [
    "#####   \n",
    "<span style=\"font-family:MV Boli; font-weight:Bold; font-size:1.8em; color:#00b3e5;\"> Listbox:\n",
    "    \n",
    "  - **Syntax** . . . . . . . . . . . **LB1 = Listbox( master, opt=val )**\n",
    "  - **Options** . . . . . . . . . . **bg, fg, width, height, font, image, bd**"
   ]
  },
  {
   "cell_type": "code",
   "execution_count": 8,
   "id": "897b0d09",
   "metadata": {},
   "outputs": [],
   "source": [
    "# Listbox\n",
    "LB1 = Listbox( main_window \n",
    "             , selectmode =   EXTENDED \n",
    "             , bg         =  'Light Cyan'\n",
    "             , fg         =  'deeppink'\n",
    "             , width      =   15\n",
    "             , height     =    4 \n",
    "             , font       = ('Arial',16,'bold','italic')\n",
    "             , bd         =    1 \n",
    "             )\n",
    "\n",
    "# LIST\n",
    "LIST = ['Salmon','Blue','Pink','Cyan','Green','Lime','Orange']\n",
    "for i in range( len(LIST) ):\n",
    "    LB1.insert( i, LIST[i] )\n",
    "    \n",
    "# config\n",
    "LB1.config(  height = len(LIST)  )\n",
    "LB1.grid(row=1,column=2)"
   ]
  },
  {
   "cell_type": "markdown",
   "id": "8e6f4494",
   "metadata": {},
   "source": [
    "#####   \n",
    "<span style=\"font-family:MV Boli; font-weight:Bold; font-size:1.8em; color:#00b3e5;\"> Radiobutton:\n",
    "    \n",
    "  - **Syntax** . . . . . . . . . . . **RB1 = Radiobutton( master, opt=val )**\n",
    "  - **Options** . . . . . . . . . . **bg, fg, width, height, font, image, bd**"
   ]
  },
  {
   "cell_type": "markdown",
   "id": "903d1646",
   "metadata": {},
   "source": [
    "<span style=\"font-family:MV Boli; font-weight:Bold; font-size:1.5em; color:#00b3e5;\"> text"
   ]
  },
  {
   "cell_type": "code",
   "execution_count": 9,
   "id": "8feaee3f",
   "metadata": {},
   "outputs": [],
   "source": [
    "# Style\n",
    "rbStyle = ttk.Style() \n",
    "rbStyle.configure('Wild.TRadiobutton', background='Light Cyan', foreground='deeppink', font=('Arial',16,'bold','italic'))\n",
    "\n",
    "# Variable\n",
    "A = StringVar()\n",
    "\n",
    "# Buttons\n",
    "A0 = ttk.Radiobutton( main_window\n",
    "                    , variable =  A\n",
    "                    , text     = 'Red'\n",
    "                    , value    = 'Red'\n",
    "                    , width    =  15\n",
    "                    , style    = 'Wild.TRadiobutton' )\n",
    "A1 = ttk.Radiobutton( main_window\n",
    "                    , variable =  A\n",
    "                    , text     = 'Green'\n",
    "                    , value    = 'Green'\n",
    "                    , width    =  15\n",
    "                    , style    = 'Wild.TRadiobutton' )\n",
    "A2 = ttk.Radiobutton( main_window\n",
    "                    , variable =  A\n",
    "                    , text     = 'Blue'\n",
    "                    , value    = 'Blue'\n",
    "                    , width    =  15\n",
    "                    , style    = 'Wild.TRadiobutton' )\n",
    "\n",
    "# pack - grid - place\n",
    "A0.grid( column=1,row=3,padx=5,sticky=W )  \n",
    "A1.grid( column=1,row=4,padx=5,sticky=W )\n",
    "A2.grid( column=1,row=5,padx=5,sticky=W )\n",
    "\n",
    "# Label\n",
    "LA = Label( main_window\n",
    "          , text   = 'Color'\n",
    "          , bg     = 'Light Cyan'\n",
    "          , fg     = 'deeppink'\n",
    "          , width  =  15\n",
    "          , height =   2 \n",
    "          , font   = ('Arial',16,'bold','italic')\n",
    "          )\n",
    "LA.grid(column=1,row=2)"
   ]
  },
  {
   "cell_type": "markdown",
   "id": "40e98f54",
   "metadata": {},
   "source": [
    "<span style=\"font-family:MV Boli; font-weight:Bold; font-size:1.5em; color:#00b3e5;\"> image"
   ]
  },
  {
   "cell_type": "code",
   "execution_count": 10,
   "id": "96c91177",
   "metadata": {},
   "outputs": [],
   "source": [
    "# Style\n",
    "rbStyle = ttk.Style() \n",
    "rbStyle.configure('Wild.TRadiobutton', background='Light Cyan', foreground='deeppink', font=('Arial',16,'bold','italic'))\n",
    "\n",
    "# Variable\n",
    "SP = StringVar()\n",
    "\n",
    "# Buttons \n",
    "Eric = PhotoImage( file='Eric.png' ) \n",
    "SP0 = ttk.Radiobutton( main_window\n",
    "                    , variable =  SP \n",
    "                    , image    =  Eric\n",
    "                    , value    = 'Eric'\n",
    "                    , width    =  15\n",
    "                    , style    = 'Wild.TRadiobutton' )\n",
    "Stan = PhotoImage( file='Stan.png' ) \n",
    "SP1 = ttk.Radiobutton( main_window\n",
    "                    , variable =  SP\n",
    "                    , image    =  Stan\n",
    "                    , value    = 'Stan'\n",
    "                    , width    =  15\n",
    "                    , style    = 'Wild.TRadiobutton' )\n",
    "Kenny = PhotoImage( file='Kenny.png' ) \n",
    "SP2 = ttk.Radiobutton( main_window\n",
    "                    , variable =  SP\n",
    "                    , image    =  Kenny\n",
    "                    , value    = 'Kenny'\n",
    "                    , width    =  15\n",
    "                    , style    = 'Wild.TRadiobutton' )\n",
    "Kyle = PhotoImage( file='Kyle.png' ) \n",
    "SP3 = ttk.Radiobutton( main_window\n",
    "                    , variable =  SP\n",
    "                    , image    =  Kyle\n",
    "                    , value    = 'Kyle'\n",
    "                    , width    =  15\n",
    "                    , style    = 'Wild.TRadiobutton' )\n",
    "\n",
    "# pack - grid - place\n",
    "SP0.grid( column=2,row=3,padx=5,sticky=W )  \n",
    "SP1.grid( column=2,row=4,padx=5,sticky=W )\n",
    "SP2.grid( column=2,row=5,padx=5,sticky=W )\n",
    "SP3.grid( column=2,row=6,padx=6,sticky=W )\n",
    "\n",
    "# Label\n",
    "LS = Label( main_window\n",
    "          , text   = 'SouthPark'\n",
    "          , bg     = 'Light Cyan'\n",
    "          , fg     = 'deeppink'\n",
    "          , width  =  15\n",
    "          , height =   2 \n",
    "          , font   = ('Arial',16,'bold','italic')\n",
    "          )\n",
    "LS.grid(column=2,row=2)"
   ]
  },
  {
   "cell_type": "markdown",
   "id": "443d29dd",
   "metadata": {},
   "source": [
    "#####   \n",
    "<span style=\"font-family:MV Boli; font-weight:Bold; font-size:1.8em; color:#00b3e5;\"> Combobox:\n",
    "    \n",
    "  - **Syntax** . . . . . . . . . . . **CB1 = Combobox( master, opt=val )**\n",
    "  - **Options** . . . . . . . . . . **textvariable, width, height, font**"
   ]
  },
  {
   "cell_type": "code",
   "execution_count": 11,
   "id": "80b56acd",
   "metadata": {},
   "outputs": [],
   "source": [
    "# Var\n",
    "Car_Model = StringVar()\n",
    "\n",
    "\n",
    "# Label\n",
    "L5 = Label( main_window\n",
    "          , text   = 'Car_Model'\n",
    "          , bg     = 'Light Cyan'\n",
    "          , fg     = 'deeppink'\n",
    "          , width  =  15\n",
    "          , height =   2 \n",
    "          , font   = ('Arial',16,'bold','italic')\n",
    "          , anchor =  'center' \n",
    "          )\n",
    "L5.grid( column=3, row=0, padx=5, sticky=(N,S) )\n",
    "\n",
    "\n",
    "# Combo Box\n",
    "CB1 = ttk.Combobox( main_window\n",
    "                  , textvariable  =   Car_Model  \n",
    "                  , width         =   15\n",
    "                  , height        =    5 \n",
    "                  , font          = ('Arial',16,'bold','italic')  \n",
    "                  )\n",
    "CB1['values']=[ 'M1', 'M2', 'M3', 'M4', 'M5' ]\n",
    "CB1.state(['readonly'])\n",
    "CB1.grid( column=3, columnspan=1, row=1, rowspan=1, padx=30, pady=30, sticky=(N,S,E,W) )\n",
    "\n",
    "\n",
    "# initial state\n",
    "Car_Model.set( 'M3' )"
   ]
  },
  {
   "cell_type": "markdown",
   "id": "7a7d86a0",
   "metadata": {},
   "source": [
    "#####   \n",
    "<span style=\"font-family:MV Boli; font-weight:Bold; font-size:1.8em; color:#00b3e5;\"> Main Loop"
   ]
  },
  {
   "cell_type": "code",
   "execution_count": 12,
   "id": "b3da34c5",
   "metadata": {},
   "outputs": [],
   "source": [
    "main_window.mainloop()"
   ]
  },
  {
   "cell_type": "markdown",
   "id": "729665c2",
   "metadata": {},
   "source": [
    "#####   "
   ]
  },
  {
   "cell_type": "markdown",
   "id": "b504e36f",
   "metadata": {},
   "source": [
    "#####   "
   ]
  }
 ],
 "metadata": {
  "kernelspec": {
   "display_name": "Python 3 (ipykernel)",
   "language": "python",
   "name": "python3"
  },
  "language_info": {
   "codemirror_mode": {
    "name": "ipython",
    "version": 3
   },
   "file_extension": ".py",
   "mimetype": "text/x-python",
   "name": "python",
   "nbconvert_exporter": "python",
   "pygments_lexer": "ipython3",
   "version": "3.10.13"
  }
 },
 "nbformat": 4,
 "nbformat_minor": 5
}
