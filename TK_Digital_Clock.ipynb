{
 "cells": [
  {
   "cell_type": "markdown",
   "id": "87d5ebbe",
   "metadata": {},
   "source": [
    "#####   \n",
    "<span style=\"font-family:MV Boli; font-weight:Bold; font-size:2.3em; color:#00b3e5;\"> TKinter Digital Clock"
   ]
  },
  {
   "cell_type": "code",
   "execution_count": 1,
   "id": "753654cf",
   "metadata": {},
   "outputs": [],
   "source": [
    "import time\n",
    "from   tkinter import *\n",
    "\n",
    "\n",
    "tk_window = Tk()\n",
    "tk_window.title( \"My Digital Clock\" )\n",
    "\n",
    "time_display = Label( tk_window\n",
    "                    , font = ( \"Arial\", 55, \"bold\", \"italic\" )\n",
    "                    , bg   = 'Light cyan'\n",
    "                    , fg   = 'Light pink'\n",
    "                    )\n",
    "time_display.pack()\n",
    "\n",
    "def time_current():\n",
    "    a = time.strftime(\"%I:%M:%S %p \")     # H: 1-24   I: 1-12\n",
    "    time_display.config( text = a )\n",
    "    time_display.after( 1000, time_current )\n",
    "time_current()\n",
    "\n",
    "tk_window.mainloop()"
   ]
  },
  {
   "cell_type": "markdown",
   "id": "3d1619dc",
   "metadata": {},
   "source": [
    "#####   "
   ]
  },
  {
   "cell_type": "markdown",
   "id": "729665c2",
   "metadata": {},
   "source": [
    "#####   "
   ]
  }
 ],
 "metadata": {
  "kernelspec": {
   "display_name": "Python 3 (ipykernel)",
   "language": "python",
   "name": "python3"
  },
  "language_info": {
   "codemirror_mode": {
    "name": "ipython",
    "version": 3
   },
   "file_extension": ".py",
   "mimetype": "text/x-python",
   "name": "python",
   "nbconvert_exporter": "python",
   "pygments_lexer": "ipython3",
   "version": "3.10.13"
  }
 },
 "nbformat": 4,
 "nbformat_minor": 5
}
